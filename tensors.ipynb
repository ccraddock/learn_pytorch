{
 "cells": [
  {
   "cell_type": "code",
   "execution_count": 1,
   "metadata": {
    "collapsed": true,
    "pycharm": {
     "name": "#%% this is from the pytorch tensor demo\n"
    }
   },
   "outputs": [
    {
     "name": "stdout",
     "output_type": "stream",
     "text": [
      "cameron\n"
     ]
    }
   ],
   "source": []
  },
  {
   "cell_type": "code",
   "execution_count": 6,
   "outputs": [],
   "source": [
    "import torch\n",
    "import numpy as np\n",
    "\n",
    "data = [[1, 2], [3, 4]]\n",
    "x_data = torch.tensor(data)\n",
    "\n",
    "np_array = np.array(data)\n",
    "x_data = torch.from_numpy(np_array)"
   ],
   "metadata": {
    "collapsed": false,
    "pycharm": {
     "name": "#%%\n"
    }
   }
  },
  {
   "cell_type": "code",
   "execution_count": 11,
   "outputs": [
    {
     "name": "stdout",
     "output_type": "stream",
     "text": [
      "tensor([[1, 2],\n",
      "        [3, 4]])\n",
      "tensor([[1, 1],\n",
      "        [1, 1]])\n",
      "tensor([[0.8770, 0.9981],\n",
      "        [0.5567, 0.7818]])\n"
     ]
    }
   ],
   "source": [
    "x_ones = torch.ones_like(x_data)\n",
    "x_rand = torch.rand_like(x_data, dtype=torch.float)\n",
    "\n",
    "print(x_data)\n",
    "print(x_ones)\n",
    "print(x_rand)"
   ],
   "metadata": {
    "collapsed": false,
    "pycharm": {
     "name": "#%%\n"
    }
   }
  },
  {
   "cell_type": "code",
   "execution_count": 13,
   "outputs": [
    {
     "name": "stdout",
     "output_type": "stream",
     "text": [
      "Random Tensor\n",
      " tensor([[0.5490, 0.3925, 0.9993],\n",
      "        [0.0035, 0.4278, 0.8714]])\n",
      "Ones Tensor\n",
      " tensor([[1., 1., 1.],\n",
      "        [1., 1., 1.]])\n",
      "Zeros Tensor\n",
      " tensor([[0., 0., 0.],\n",
      "        [0., 0., 0.]])\n"
     ]
    }
   ],
   "source": [
    "shape = (2,3,)\n",
    "rand_tensor = torch.rand(shape)\n",
    "ones_tensor = torch.ones(shape)\n",
    "zeros_tensor = torch.zeros(shape)\n",
    "\n",
    "print(f\"Random Tensor\\n {rand_tensor}\")\n",
    "print(f\"Ones Tensor\\n {ones_tensor}\")\n",
    "print(f\"Zeros Tensor\\n {zeros_tensor}\")"
   ],
   "metadata": {
    "collapsed": false,
    "pycharm": {
     "name": "#%%\n"
    }
   }
  },
  {
   "cell_type": "code",
   "execution_count": 14,
   "outputs": [
    {
     "name": "stdout",
     "output_type": "stream",
     "text": [
      "torch.Size([3, 4])\n",
      "torch.float32\n",
      "cpu\n"
     ]
    }
   ],
   "source": [
    "tensor = torch.rand(3,4)\n",
    "\n",
    "print(tensor.shape)\n",
    "print(tensor.dtype)\n",
    "print(tensor.device)"
   ],
   "metadata": {
    "collapsed": false,
    "pycharm": {
     "name": "#%%\n"
    }
   }
  },
  {
   "cell_type": "code",
   "execution_count": 17,
   "outputs": [
    {
     "name": "stdout",
     "output_type": "stream",
     "text": [
      "First row: tensor([0.7507, 0.6517, 0.3947, 0.8275])\n",
      "First column: tensor([0.7507, 0.6730, 0.4508, 0.4305])\n",
      "Last column: tensor([0.8275, 0.7688, 0.4832, 0.8740])\n",
      "tensor([[0.7507, 0.0000, 0.3947, 0.8275],\n",
      "        [0.6730, 0.0000, 0.8936, 0.7688],\n",
      "        [0.4508, 0.0000, 0.1415, 0.4832],\n",
      "        [0.4305, 0.0000, 0.1147, 0.8740]])\n"
     ]
    }
   ],
   "source": [
    "dev = 'cpu'\n",
    "\n",
    "tensor=torch.rand(4, 4).to(dev)\n",
    "print(f\"First row: {tensor[0]}\")\n",
    "print(f\"First column: {tensor[:, 0]}\")\n",
    "print(f\"Last column: {tensor[..., -1]}\")\n",
    "tensor[:,1] = 0\n",
    "print(tensor)"
   ],
   "metadata": {
    "collapsed": false,
    "pycharm": {
     "name": "#%%\n"
    }
   }
  },
  {
   "cell_type": "code",
   "execution_count": 20,
   "outputs": [
    {
     "name": "stdout",
     "output_type": "stream",
     "text": [
      "tensor([[0.7507, 0.0000, 0.3947, 0.8275, 0.7507, 0.0000, 0.3947, 0.8275, 0.7507,\n",
      "         0.0000, 0.3947, 0.8275],\n",
      "        [0.6730, 0.0000, 0.8936, 0.7688, 0.6730, 0.0000, 0.8936, 0.7688, 0.6730,\n",
      "         0.0000, 0.8936, 0.7688],\n",
      "        [0.4508, 0.0000, 0.1415, 0.4832, 0.4508, 0.0000, 0.1415, 0.4832, 0.4508,\n",
      "         0.0000, 0.1415, 0.4832],\n",
      "        [0.4305, 0.0000, 0.1147, 0.8740, 0.4305, 0.0000, 0.1147, 0.8740, 0.4305,\n",
      "         0.0000, 0.1147, 0.8740]])\n",
      "torch.Size([4, 12])\n"
     ]
    }
   ],
   "source": [
    "t1 = torch.cat([tensor, tensor, tensor], dim=1)\n",
    "print(t1)\n",
    "print(t1.shape)"
   ],
   "metadata": {
    "collapsed": false,
    "pycharm": {
     "name": "#%%\n"
    }
   }
  },
  {
   "cell_type": "code",
   "execution_count": 19,
   "outputs": [
    {
     "name": "stdout",
     "output_type": "stream",
     "text": [
      "tensor([[[0.7507, 0.0000, 0.3947, 0.8275],\n",
      "         [0.7507, 0.0000, 0.3947, 0.8275],\n",
      "         [0.7507, 0.0000, 0.3947, 0.8275]],\n",
      "\n",
      "        [[0.6730, 0.0000, 0.8936, 0.7688],\n",
      "         [0.6730, 0.0000, 0.8936, 0.7688],\n",
      "         [0.6730, 0.0000, 0.8936, 0.7688]],\n",
      "\n",
      "        [[0.4508, 0.0000, 0.1415, 0.4832],\n",
      "         [0.4508, 0.0000, 0.1415, 0.4832],\n",
      "         [0.4508, 0.0000, 0.1415, 0.4832]],\n",
      "\n",
      "        [[0.4305, 0.0000, 0.1147, 0.8740],\n",
      "         [0.4305, 0.0000, 0.1147, 0.8740],\n",
      "         [0.4305, 0.0000, 0.1147, 0.8740]]])\n"
     ]
    }
   ],
   "source": [
    "t2 = torch.stack([tensor, tensor, tensor], dim=1)\n",
    "print(t2)\n",
    "print(t2.shape)"
   ],
   "metadata": {
    "collapsed": false,
    "pycharm": {
     "name": "#%%\n"
    }
   }
  },
  {
   "cell_type": "code",
   "execution_count": 21,
   "outputs": [
    {
     "name": "stdout",
     "output_type": "stream",
     "text": [
      "tensor([[0., 0., 0., 0.],\n",
      "        [0., 0., 0., 0.],\n",
      "        [0., 0., 0., 0.],\n",
      "        [0., 0., 0., 0.]]) tensor([[0., 0., 0., 0.],\n",
      "        [0., 0., 0., 0.],\n",
      "        [0., 0., 0., 0.],\n",
      "        [0., 0., 0., 0.]]) tensor([[0., 0., 0., 0.],\n",
      "        [0., 0., 0., 0.],\n",
      "        [0., 0., 0., 0.],\n",
      "        [0., 0., 0., 0.]])\n"
     ]
    }
   ],
   "source": [
    "y1 = tensor @ tensor.T\n",
    "y2 = tensor.matmul(tensor.T)\n",
    "y3 = torch.rand_like(tensor)\n",
    "torch.matmul(tensor, tensor.T, out=y3)\n",
    "\n",
    "print(f'{y1 - y2} {y2 - y3} {y1 - y3}')\n"
   ],
   "metadata": {
    "collapsed": false,
    "pycharm": {
     "name": "#%%\n"
    }
   }
  },
  {
   "cell_type": "code",
   "execution_count": 22,
   "outputs": [
    {
     "data": {
      "text/plain": "tensor([[0.5635, 0.0000, 0.1558, 0.6848],\n        [0.4529, 0.0000, 0.7985, 0.5911],\n        [0.2033, 0.0000, 0.0200, 0.2335],\n        [0.1853, 0.0000, 0.0132, 0.7638]])"
     },
     "execution_count": 22,
     "metadata": {},
     "output_type": "execute_result"
    }
   ],
   "source": [
    "\n",
    "# This computes the element-wise product. z1, z2, z3 will have the same value\n",
    "z1 = tensor * tensor\n",
    "z2 = tensor.mul(tensor)\n",
    "\n",
    "z3 = torch.rand_like(tensor)\n",
    "torch.mul(tensor, tensor, out=z3)"
   ],
   "metadata": {
    "collapsed": false,
    "pycharm": {
     "name": "#%%\n"
    }
   }
  },
  {
   "cell_type": "code",
   "execution_count": 24,
   "outputs": [
    {
     "name": "stdout",
     "output_type": "stream",
     "text": [
      "tensor([[0.7507, 0.0000, 0.3947, 0.8275],\n",
      "        [0.6730, 0.0000, 0.8936, 0.7688],\n",
      "        [0.4508, 0.0000, 0.1415, 0.4832],\n",
      "        [0.4305, 0.0000, 0.1147, 0.8740]])\n",
      "tensor([[0., 0., 0., 0.],\n",
      "        [0., 0., 0., 0.],\n",
      "        [0., 0., 0., 0.],\n",
      "        [0., 0., 0., 0.]])\n"
     ]
    }
   ],
   "source": [
    "print(tensor)\n",
    "print(z1)\n",
    "print(z1 - z2)"
   ],
   "metadata": {
    "collapsed": false,
    "pycharm": {
     "name": "#%%\n"
    }
   }
  },
  {
   "cell_type": "code",
   "execution_count": 28,
   "outputs": [
    {
     "name": "stdout",
     "output_type": "stream",
     "text": [
      "tensor([0., 0., 0., 0.])\n",
      "tensor(6.8030)\n",
      "6.802977561950684 <class 'float'>\n"
     ]
    }
   ],
   "source": [
    "print((z1 - z2).sum(dim=1))\n",
    "agg = tensor.sum()\n",
    "print(agg)\n",
    "agg_item = agg.item()\n",
    "print(agg_item, type(agg_item))"
   ],
   "metadata": {
    "collapsed": false,
    "pycharm": {
     "name": "#%%\n"
    }
   }
  },
  {
   "cell_type": "code",
   "execution_count": 29,
   "outputs": [
    {
     "name": "stdout",
     "output_type": "stream",
     "text": [
      "tensor([[0.7507, 0.0000, 0.3947, 0.8275],\n",
      "        [0.6730, 0.0000, 0.8936, 0.7688],\n",
      "        [0.4508, 0.0000, 0.1415, 0.4832],\n",
      "        [0.4305, 0.0000, 0.1147, 0.8740]]) \n",
      "\n",
      "tensor([[5.7507, 5.0000, 5.3947, 5.8275],\n",
      "        [5.6730, 5.0000, 5.8936, 5.7688],\n",
      "        [5.4508, 5.0000, 5.1415, 5.4832],\n",
      "        [5.4305, 5.0000, 5.1147, 5.8740]]) \n",
      "\n",
      "tensor([[15.7507, 15.0000, 15.3947, 15.8275],\n",
      "        [15.6730, 15.0000, 15.8936, 15.7688],\n",
      "        [15.4508, 15.0000, 15.1415, 15.4832],\n",
      "        [15.4305, 15.0000, 15.1147, 15.8740]]) \n",
      "\n"
     ]
    }
   ],
   "source": [
    "print(tensor, \"\\n\")\n",
    "tensor.add_(5)\n",
    "print(tensor, \"\\n\")\n",
    "tensor += 10\n",
    "print(tensor, \"\\n\")"
   ],
   "metadata": {
    "collapsed": false,
    "pycharm": {
     "name": "#%%\n"
    }
   }
  },
  {
   "cell_type": "code",
   "execution_count": 30,
   "outputs": [
    {
     "name": "stdout",
     "output_type": "stream",
     "text": [
      "tensor([[16.1123, 15.3795, 16.3821, 16.4317],\n",
      "        [15.7846, 15.1699, 15.9288, 16.2827],\n",
      "        [16.3425, 15.2435, 15.6169, 15.7586],\n",
      "        [16.0835, 15.7345, 16.0430, 16.6115]]) \n",
      "\n"
     ]
    }
   ],
   "source": [
    "tensor += torch.rand_like(tensor)\n",
    "print(tensor, \"\\n\")"
   ],
   "metadata": {
    "collapsed": false,
    "pycharm": {
     "name": "#%%\n"
    }
   }
  },
  {
   "cell_type": "code",
   "execution_count": 32,
   "outputs": [
    {
     "name": "stdout",
     "output_type": "stream",
     "text": [
      "t: tensor([1., 1., 1., 1., 1.])\n",
      "n: [1. 1. 1. 1. 1.]\n"
     ]
    }
   ],
   "source": [
    "t = torch.ones(5)\n",
    "print(f\"t: {t}\")\n",
    "n = t.numpy()\n",
    "print(f\"n: {n}\")"
   ],
   "metadata": {
    "collapsed": false,
    "pycharm": {
     "name": "#%%\n"
    }
   }
  },
  {
   "cell_type": "code",
   "execution_count": 33,
   "outputs": [
    {
     "name": "stdout",
     "output_type": "stream",
     "text": [
      "t: tensor([2., 2., 2., 2., 2.])\n",
      "n: [2. 2. 2. 2. 2.]\n"
     ]
    }
   ],
   "source": [
    "t.add_(1)\n",
    "print(f\"t: {t}\")\n",
    "print(f\"n: {n}\")\n"
   ],
   "metadata": {
    "collapsed": false,
    "pycharm": {
     "name": "#%%\n"
    }
   }
  },
  {
   "cell_type": "code",
   "execution_count": 34,
   "outputs": [
    {
     "name": "stdout",
     "output_type": "stream",
     "text": [
      "t: tensor([2., 2., 2., 2., 2.], dtype=torch.float64)\n",
      "n: [2. 2. 2. 2. 2.]\n"
     ]
    }
   ],
   "source": [
    "n = np.ones(5)\n",
    "t = torch.from_numpy(n)\n",
    "\n",
    "np.add(n, 1, out=n)\n",
    "print(f\"t: {t}\")\n",
    "print(f\"n: {n}\")\n"
   ],
   "metadata": {
    "collapsed": false,
    "pycharm": {
     "name": "#%% changes in the numpy array are reflected in the tensor\n"
    }
   }
  },
  {
   "cell_type": "code",
   "execution_count": null,
   "outputs": [],
   "source": [],
   "metadata": {
    "collapsed": false,
    "pycharm": {
     "name": "#%%\n"
    }
   }
  }
 ],
 "metadata": {
  "kernelspec": {
   "display_name": "Python 3",
   "language": "python",
   "name": "python3"
  },
  "language_info": {
   "codemirror_mode": {
    "name": "ipython",
    "version": 2
   },
   "file_extension": ".py",
   "mimetype": "text/x-python",
   "name": "python",
   "nbconvert_exporter": "python",
   "pygments_lexer": "ipython2",
   "version": "2.7.6"
  }
 },
 "nbformat": 4,
 "nbformat_minor": 0
}